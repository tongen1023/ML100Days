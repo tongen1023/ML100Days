{
 "cells": [
  {
   "cell_type": "code",
   "execution_count": null,
   "metadata": {},
   "outputs": [],
   "source": [
    "#我對於機器學習的理解是可以藉由大數據分析過往的經驗，讓學習者可以根據自己現在以及想要達到的學習目標更知道該怎麼更靠近，因此我認為機器學習其實最適合運用於自學的領域，因為此類型的學習者通常對於學習有自己的目標，並且很明確的瞭解自己的學習狀況，可以藉由機器學習更好的得到有效的學習成效，並且我也認為機器學習相當適合在訓練專業技能的競技領域，不管是運動、廚藝甚至是音樂相觀的選手可以藉由機器學習去去判定如何將比賽的表現更趨於完美，並且達到在比賽上的優勝的表現。"
   ]
  }
 ],
 "metadata": {
  "kernelspec": {
   "display_name": "Python 3",
   "language": "python",
   "name": "python3"
  },
  "language_info": {
   "codemirror_mode": {
    "name": "ipython",
    "version": 3
   },
   "file_extension": ".py",
   "mimetype": "text/x-python",
   "name": "python",
   "nbconvert_exporter": "python",
   "pygments_lexer": "ipython3",
   "version": "3.7.6"
  }
 },
 "nbformat": 4,
 "nbformat_minor": 4
}
