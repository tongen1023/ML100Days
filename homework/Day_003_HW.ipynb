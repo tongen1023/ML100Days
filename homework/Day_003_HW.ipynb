{
 "cells": [
  {
   "cell_type": "code",
   "execution_count": 1,
   "metadata": {},
   "outputs": [],
   "source": [
    "#作業3\n",
    "#1. 專案目的：如何使無人駕駛可以在更貼近真實交通情境下能使用更完善，並且有哪些可用平台可以提供無人駕駛面對交通能應付自如。\n",
    "#2. 使用的技術：利用線性關係預測先祐多久時間能讓無人駕駛的仿真系統讓事故率顯著小於真人駕駛，並且利用機器解析模式剖析不同交通場景的發展，以數據導向方式去建構不同交通場景。\n",
    "#3. 資料來源：https://www.jiqizhixin.com/articles/2020-06-16-15"
   ]
  }
 ],
 "metadata": {
  "kernelspec": {
   "display_name": "Python 3",
   "language": "python",
   "name": "python3"
  },
  "language_info": {
   "codemirror_mode": {
    "name": "ipython",
    "version": 3
   },
   "file_extension": ".py",
   "mimetype": "text/x-python",
   "name": "python",
   "nbconvert_exporter": "python",
   "pygments_lexer": "ipython3",
   "version": "3.7.6"
  }
 },
 "nbformat": 4,
 "nbformat_minor": 4
}
